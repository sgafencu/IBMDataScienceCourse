{
 "cells": [
  {
   "cell_type": "markdown",
   "id": "f32ee25c-74c8-4fba-b046-9e15ba7f3305",
   "metadata": {},
   "source": [
    "# Data Science Tools and Ecosystem"
   ]
  },
  {
   "cell_type": "markdown",
   "id": "866bece6-dee9-4e76-a319-85bc399e8aa6",
   "metadata": {},
   "source": [
    "In this notebook, Data Science Tools and Ecosystem are summarized."
   ]
  },
  {
   "cell_type": "markdown",
   "id": "0b3db05e-1465-4cb5-8b9c-adb685aa02fb",
   "metadata": {},
   "source": [
    "Some of the popular languages that Data Scientists use are:\n",
    "1. Python\n",
    "2. R\n",
    "3. Julia\n",
    "4. Scala\n",
    "5. Java\n",
    "6. SQL"
   ]
  },
  {
   "cell_type": "markdown",
   "id": "0616d798-e69d-4b94-b0cf-a58dbf0aea12",
   "metadata": {},
   "source": [
    "Some of the commonly used libraries used by Data Scientists include:\n",
    "1. Pandas\n",
    "2. NumPy\n",
    "3. SciPy\n",
    "4. MatPlotLib\n",
    "5. Seaborn"
   ]
  },
  {
   "cell_type": "markdown",
   "id": "8c39659b-e89e-4dbc-a18d-d8f52455f240",
   "metadata": {},
   "source": [
    "|Data Science Tools|\n",
    "|-----------|\n",
    "|Jupyter Notebook|\n",
    "|Rstudio|\n",
    "|IBM Watson Studio|"
   ]
  },
  {
   "cell_type": "markdown",
   "id": "03793e3d-d543-4134-a72e-8909a220858b",
   "metadata": {},
   "source": [
    "### Below are a few examples of evaluating arithmetic expressions in Python"
   ]
  },
  {
   "cell_type": "code",
   "execution_count": 28,
   "id": "8009b4ca-8ef7-43e6-b03f-18575d105c11",
   "metadata": {},
   "outputs": [
    {
     "data": {
      "text/plain": [
       "17"
      ]
     },
     "execution_count": 28,
     "metadata": {},
     "output_type": "execute_result"
    }
   ],
   "source": [
    "# This a simple arithmetic expression to multiply and then add integers\n",
    "(3*4)+5"
   ]
  },
  {
   "cell_type": "code",
   "execution_count": 30,
   "id": "aed27694-1cda-41f3-8de4-14485b5e3aa1",
   "metadata": {},
   "outputs": [
    {
     "data": {
      "text/plain": [
       "3.3333333333333335"
      ]
     },
     "execution_count": 30,
     "metadata": {},
     "output_type": "execute_result"
    }
   ],
   "source": [
    "# This will convert 200 minutes to hours by diving by 60\n",
    "200/60"
   ]
  },
  {
   "cell_type": "markdown",
   "id": "60cec287-a8ff-46a8-a2e4-21f912e2f17d",
   "metadata": {},
   "source": [
    "**Objectives:**\n",
    "* List popular languages that Data Scientists use.\n",
    "* List Data Science commonly used libraries.\n",
    "* List popular Data Science tools."
   ]
  },
  {
   "cell_type": "markdown",
   "id": "debddf73-9217-4ba1-9c24-ed42e3deccd9",
   "metadata": {},
   "source": [
    "## Author\n",
    "Stefan Gafencu"
   ]
  },
  {
   "cell_type": "code",
   "execution_count": null,
   "id": "92159a29-0ada-411d-b330-6b2f03901484",
   "metadata": {},
   "outputs": [],
   "source": []
  }
 ],
 "metadata": {
  "kernelspec": {
   "display_name": "Python 3 (ipykernel)",
   "language": "python",
   "name": "python3"
  },
  "language_info": {
   "codemirror_mode": {
    "name": "ipython",
    "version": 3
   },
   "file_extension": ".py",
   "mimetype": "text/x-python",
   "name": "python",
   "nbconvert_exporter": "python",
   "pygments_lexer": "ipython3",
   "version": "3.12.4"
  }
 },
 "nbformat": 4,
 "nbformat_minor": 5
}
